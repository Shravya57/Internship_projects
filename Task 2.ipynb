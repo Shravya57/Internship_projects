{
 "cells": [
  {
   "cell_type": "code",
   "execution_count": 1,
   "id": "bf1d0c31",
   "metadata": {},
   "outputs": [
    {
     "name": "stdout",
     "output_type": "stream",
     "text": [
      "Enter rock, paper, or scissors (or 'quit' to stop playing): rock\n",
      "Computer chose: scissors\n",
      "You win!\n",
      "Enter rock, paper, or scissors (or 'quit' to stop playing): paper\n",
      "Computer chose: paper\n",
      "It's a tie!\n",
      "Enter rock, paper, or scissors (or 'quit' to stop playing): quit\n",
      "Game over. Thanks for playing!\n"
     ]
    }
   ],
   "source": [
    "import random\n",
    "\n",
    "def rock_paper_scissors():\n",
    "    choices = ['rock', 'paper', 'scissors']\n",
    "    \n",
    "    while True:\n",
    "        user_choice = input(\"Enter rock, paper, or scissors (or 'quit' to stop playing): \").lower()\n",
    "        \n",
    "        if user_choice == 'quit':\n",
    "            print(\"Game over. Thanks for playing!\")\n",
    "            break\n",
    "        elif user_choice not in choices:\n",
    "            print(\"Invalid choice. Please try again.\")\n",
    "            continue\n",
    "\n",
    "        computer_choice = random.choice(choices)\n",
    "        print(f\"Computer chose: {computer_choice}\")\n",
    "\n",
    "        if user_choice == computer_choice:\n",
    "            print(\"It's a tie!\")\n",
    "        elif (user_choice == 'rock' and computer_choice == 'scissors') or \\\n",
    "             (user_choice == 'scissors' and computer_choice == 'paper') or \\\n",
    "             (user_choice == 'paper' and computer_choice == 'rock'):\n",
    "            print(\"You win!\")\n",
    "        else:\n",
    "            print(\"Computer wins!\")\n",
    "            \n",
    "rock_paper_scissors()"
   ]
  },
  {
   "cell_type": "code",
   "execution_count": null,
   "id": "857311c4",
   "metadata": {},
   "outputs": [],
   "source": []
  }
 ],
 "metadata": {
  "kernelspec": {
   "display_name": "Python 3 (ipykernel)",
   "language": "python",
   "name": "python3"
  },
  "language_info": {
   "codemirror_mode": {
    "name": "ipython",
    "version": 3
   },
   "file_extension": ".py",
   "mimetype": "text/x-python",
   "name": "python",
   "nbconvert_exporter": "python",
   "pygments_lexer": "ipython3",
   "version": "3.10.9"
  }
 },
 "nbformat": 4,
 "nbformat_minor": 5
}
