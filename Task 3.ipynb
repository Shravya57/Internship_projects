{
 "cells": [
  {
   "cell_type": "code",
   "execution_count": 2,
   "id": "e2c0d496",
   "metadata": {},
   "outputs": [
    {
     "name": "stdout",
     "output_type": "stream",
     "text": [
      "Enter the desired password length: 6\n",
      "Choose character types to include in the password:\n",
      "Include lowercase letters? (yes/no): no\n",
      "Include uppercase letters? (yes/no): yes\n",
      "Include digits? (yes/no): yes\n",
      "Include special characters? (yes/no): no\n",
      "Generated password: 2AT8EP\n"
     ]
    }
   ],
   "source": [
    "import random\n",
    "import string\n",
    "\n",
    "def generate_password():\n",
    "    length = int(input(\"Enter the desired password length: \"))\n",
    "\n",
    "    print(\"Choose character types to include in the password:\")\n",
    "    include_lower = input(\"Include lowercase letters? (yes/no): \").lower() == 'yes'\n",
    "    include_upper = input(\"Include uppercase letters? (yes/no): \").lower() == 'yes'\n",
    "    include_digits = input(\"Include digits? (yes/no): \").lower() == 'yes'\n",
    "    include_special = input(\"Include special characters? (yes/no): \").lower() == 'yes'\n",
    "\n",
    "    # Building the character set based on user choices\n",
    "    character_set = \"\"\n",
    "    if include_lower:\n",
    "        character_set += string.ascii_lowercase\n",
    "    if include_upper:\n",
    "        character_set += string.ascii_uppercase\n",
    "    if include_digits:\n",
    "        character_set += string.digits\n",
    "    if include_special:\n",
    "        character_set += string.punctuation\n",
    "\n",
    "    if character_set:\n",
    "        password = ''.join(random.choice(character_set) for _ in range(length))\n",
    "        print(f\"Generated password: {password}\")\n",
    "    else:\n",
    "        print(\"Error: You must select at least one type of character to include.\")\n",
    "\n",
    "generate_password()"
   ]
  },
  {
   "cell_type": "code",
   "execution_count": null,
   "id": "ee1b53c0",
   "metadata": {},
   "outputs": [],
   "source": []
  }
 ],
 "metadata": {
  "kernelspec": {
   "display_name": "Python 3 (ipykernel)",
   "language": "python",
   "name": "python3"
  },
  "language_info": {
   "codemirror_mode": {
    "name": "ipython",
    "version": 3
   },
   "file_extension": ".py",
   "mimetype": "text/x-python",
   "name": "python",
   "nbconvert_exporter": "python",
   "pygments_lexer": "ipython3",
   "version": "3.10.9"
  }
 },
 "nbformat": 4,
 "nbformat_minor": 5
}
